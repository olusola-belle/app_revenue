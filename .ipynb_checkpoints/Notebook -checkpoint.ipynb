{
 "cells": [
  {
   "cell_type": "markdown",
   "id": "30b0101a",
   "metadata": {},
   "source": [
    "## My First Guided Project (Data Quest)\n",
    "\n",
    "The company requires working data that can help determine the applications that are profitable. The company currently runs adds in the free apps and that is how the company is able to generate revenue. This project aims to analyse the data from the applications that are most engaged with and in turn generate revenue.\n",
    "\n",
    "The goal of this project is to help the developers understand what types of apps that are likely to attract more users from the app stores."
   ]
  },
  {
   "cell_type": "code",
   "execution_count": 1,
   "id": "a443fca0",
   "metadata": {},
   "outputs": [],
   "source": [
    "#The dataset from Appstore \n",
    "opened_file = open('AppleStore.csv', encoding = 'utf8')\n",
    "from csv import reader\n",
    "read_file = reader(opened_file)\n",
    "ios = list(read_file)\n",
    "ios_header = ios[0]\n",
    "ios = ios[1:]\n",
    "#The dataset from Google Play Store\n",
    "opened_file = open('googleplaystore.csv', encoding = 'utf8')\n",
    "from csv import reader\n",
    "read_file = reader(opened_file)\n",
    "android = list(read_file)\n",
    "android_header = android[0]\n",
    "android = android[1:]"
   ]
  },
  {
   "cell_type": "code",
   "execution_count": 2,
   "id": "cac46008",
   "metadata": {},
   "outputs": [
    {
     "name": "stdout",
     "output_type": "stream",
     "text": [
      "['id', 'track_name', 'size_bytes', 'currency', 'price', 'rating_count_tot', 'rating_count_ver', 'user_rating', 'user_rating_ver', 'ver', 'cont_rating', 'prime_genre', 'sup_devices.num', 'ipadSc_urls.num', 'lang.num', 'vpp_lic']\n",
      "\n",
      "\n",
      "['284882215', 'Facebook', '389879808', 'USD', '0.0', '2974676', '212', '3.5', '3.5', '95.0', '4+', 'Social Networking', '37', '1', '29', '1']\n",
      "\n",
      "\n",
      "['389801252', 'Instagram', '113954816', 'USD', '0.0', '2161558', '1289', '4.5', '4.0', '10.23', '12+', 'Photo & Video', '37', '0', '29', '1']\n",
      "\n",
      "\n",
      "['529479190', 'Clash of Clans', '116476928', 'USD', '0.0', '2130805', '579', '4.5', '4.5', '9.24.12', '9+', 'Games', '38', '5', '18', '1']\n",
      "\n",
      "\n",
      "Number of rows: 7197\n",
      "Number of columns: 16\n"
     ]
    }
   ],
   "source": [
    "def explore_data(dataset, start, end, rows_and_columns=False):\n",
    "    dataset_slice = dataset[start:end]    \n",
    "    for row in dataset_slice:\n",
    "        print(row)\n",
    "        print('\\n') # adds a new (empty) line after each row\n",
    "\n",
    "    if rows_and_columns:\n",
    "        print('Number of rows:', len(dataset))\n",
    "        print('Number of columns:', len(dataset[0]))\n",
    "\n",
    "print(ios_header)\n",
    "print('\\n')\n",
    "explore_data (ios, 0 , 3, True)"
   ]
  },
  {
   "cell_type": "markdown",
   "id": "1de2119e",
   "metadata": {},
   "source": [
    "From the few printed rows of apps in the AppleStore, columns that could help with our analysis include `price`, `currency', 'track_name` among others. The link to this documentation can be found here [Apple Store File](https://dq-content.s3.amazonaws.com/350/AppleStore.csv)"
   ]
  },
  {
   "cell_type": "code",
   "execution_count": 3,
   "id": "6f75439c",
   "metadata": {},
   "outputs": [
    {
     "name": "stdout",
     "output_type": "stream",
     "text": [
      "['App', 'Category', 'Rating', 'Reviews', 'Size', 'Installs', 'Type', 'Price', 'Content Rating', 'Genres', 'Last Updated', 'Current Ver', 'Android Ver']\n",
      "\n",
      "\n",
      "['Photo Editor & Candy Camera & Grid & ScrapBook', 'ART_AND_DESIGN', '4.1', '159', '19M', '10,000+', 'Free', '0', 'Everyone', 'Art & Design', 'January 7, 2018', '1.0.0', '4.0.3 and up']\n",
      "\n",
      "\n",
      "['Coloring book moana', 'ART_AND_DESIGN', '3.9', '967', '14M', '500,000+', 'Free', '0', 'Everyone', 'Art & Design;Pretend Play', 'January 15, 2018', '2.0.0', '4.0.3 and up']\n",
      "\n",
      "\n",
      "['U Launcher Lite – FREE Live Cool Themes, Hide Apps', 'ART_AND_DESIGN', '4.7', '87510', '8.7M', '5,000,000+', 'Free', '0', 'Everyone', 'Art & Design', 'August 1, 2018', '1.2.4', '4.0.3 and up']\n",
      "\n",
      "\n",
      "Number of rows: 10841\n",
      "Number of columns: 13\n"
     ]
    }
   ],
   "source": [
    "print(android_header)\n",
    "print('\\n')\n",
    "explore_data (android, 0 , 3, True)"
   ]
  },
  {
   "cell_type": "markdown",
   "id": "215f1f57",
   "metadata": {},
   "source": [
    "Similarly, the columns from the Google PlayStore that could help with the analysis include `Apps`, `Category`, `Installs`,`Reviews` and `Price`. The link to this documentation can be found here [Google PlayStore File](https://dq-content.s3.amazonaws.com/350/googleplaystore.csv)"
   ]
  },
  {
   "cell_type": "markdown",
   "id": "c4bad613",
   "metadata": {},
   "source": [
    "## Deleting Wrong Data\n",
    "* The first step is to detect inaccurate data, and correct or remove it\n",
    "* The second step is to detect duplicate data, and remove duplicates\n",
    "* The row will first be printed to enure that the error is still present."
   ]
  },
  {
   "cell_type": "code",
   "execution_count": 4,
   "id": "3d5659bc",
   "metadata": {},
   "outputs": [
    {
     "name": "stdout",
     "output_type": "stream",
     "text": [
      "['Life Made WI-Fi Touchscreen Photo Frame', '1.9', '19', '3.0M', '1,000+', 'Free', '0', 'Everyone', '', 'February 11, 2018', '1.0.19', '4.0 and up']\n",
      "\n",
      "\n",
      "['App', 'Category', 'Rating', 'Reviews', 'Size', 'Installs', 'Type', 'Price', 'Content Rating', 'Genres', 'Last Updated', 'Current Ver', 'Android Ver']\n"
     ]
    }
   ],
   "source": [
    "print(android[10472]) #incorrect row\n",
    "print('\\n')\n",
    "print(android_header) #header row"
   ]
  },
  {
   "cell_type": "markdown",
   "id": "bde7f553",
   "metadata": {},
   "source": [
    "Note: The rating of the data in index 1072 is 19 which is higher than than the Google PlayStore rating of 5. To correct this, this row will be deleted using the `del statement'."
   ]
  },
  {
   "cell_type": "code",
   "execution_count": 5,
   "id": "9ef61bb3",
   "metadata": {},
   "outputs": [
    {
     "name": "stdout",
     "output_type": "stream",
     "text": [
      "10841\n",
      "10840\n"
     ]
    }
   ],
   "source": [
    "print(len(android))\n",
    "del android[10472]\n",
    "print(len(android))"
   ]
  },
  {
   "cell_type": "markdown",
   "id": "738a3099",
   "metadata": {},
   "source": [
    "## Removing Duplicates - Part One\n",
    "Some of the applications in dataset from the Google PlayStore in this [documentation](https://dq-content.s3.amazonaws.com/350/googleplaystore.csv) were duplicated.Here are a few of them that was found:  "
   ]
  },
  {
   "cell_type": "code",
   "execution_count": 6,
   "id": "2457f16b",
   "metadata": {},
   "outputs": [
    {
     "name": "stdout",
     "output_type": "stream",
     "text": [
      "['Twitter', 'NEWS_AND_MAGAZINES', '4.3', '11667403', 'Varies with device', '500,000,000+', 'Free', '0', 'Mature 17+', 'News & Magazines', 'August 6, 2018', 'Varies with device', 'Varies with device']\n",
      "['Twitter', 'NEWS_AND_MAGAZINES', '4.3', '11667403', 'Varies with device', '500,000,000+', 'Free', '0', 'Mature 17+', 'News & Magazines', 'August 6, 2018', 'Varies with device', 'Varies with device']\n",
      "['Twitter', 'NEWS_AND_MAGAZINES', '4.3', '11657972', 'Varies with device', '500,000,000+', 'Free', '0', 'Mature 17+', 'News & Magazines', 'July 30, 2018', 'Varies with device', 'Varies with device']\n"
     ]
    }
   ],
   "source": [
    "for app in android:\n",
    "    name = app[0]\n",
    "    if name == 'Twitter':\n",
    "        print(app)"
   ]
  },
  {
   "cell_type": "code",
   "execution_count": 7,
   "id": "803a5cbb",
   "metadata": {},
   "outputs": [
    {
     "name": "stdout",
     "output_type": "stream",
     "text": [
      "Length of duplicate apps: 1181\n",
      "\n",
      "\n",
      "Examples of duplicate apps: ['Quick PDF Scanner + OCR FREE', 'Box', 'Google My Business', 'ZOOM Cloud Meetings', 'join.me - Simple Meetings', 'Box', 'Zenefits', 'Google Ads', 'Google My Business', 'Slack']\n"
     ]
    }
   ],
   "source": [
    "# To find the duplicate apps in Google Playstore dataset\n",
    "duplicate_apps = []\n",
    "unique_apps = []\n",
    "\n",
    "for app in android:\n",
    "    name = app[0]\n",
    "    if name in unique_apps:\n",
    "        duplicate_apps.append(name)\n",
    "    else:\n",
    "        unique_apps.append(name)\n",
    "print('Length of duplicate apps:' , len(duplicate_apps))\n",
    "print('\\n')\n",
    "print('Examples of duplicate apps:' , duplicate_apps[:10])"
   ]
  },
  {
   "cell_type": "markdown",
   "id": "31ace298",
   "metadata": {},
   "source": [
    "The next step to claning this dataset from Google playstore will be to remove the duplicates, however, the duplicates cannot be removed randomly because looking at the duplicates from `Twitter`, the number of reviews were different for the different days. Therefore, to clean out the data, the most recent dataset will be selected."
   ]
  },
  {
   "cell_type": "markdown",
   "id": "dbba5fd8",
   "metadata": {},
   "source": [
    "## Removing Duplicate Entries: Part Two\n",
    "* After discovering the length or the number of the duplicate entries, they need to be removed to proceed: \n",
    "    1. A dictionary is created and checks if the name of the app is present and attachs it to the dictionary which is then assigned to the number of reviews for each app."
   ]
  },
  {
   "cell_type": "code",
   "execution_count": 8,
   "id": "eb98b5c0",
   "metadata": {},
   "outputs": [],
   "source": [
    "reviews_max = {}\n",
    "\n",
    "for app in android:\n",
    "    name = app[0]\n",
    "    n_reviews = float(app[3])\n",
    "    \n",
    "    if name in reviews_max and reviews_max[name] < n_reviews:\n",
    "        reviews_max[name] = n_reviews\n",
    "        \n",
    "    elif name not in reviews_max:\n",
    "        reviews_max[name] = n_reviews"
   ]
  },
  {
   "cell_type": "markdown",
   "id": "0261153f",
   "metadata": {},
   "source": [
    "The code above shows the number of duplicates app to be 1181, to remove the duplicates app now, the intial length woill be deducted from the number of the duplicate apps wich should also be the sme as the number of apps in the dictionary (reviews_max)."
   ]
  },
  {
   "cell_type": "code",
   "execution_count": 9,
   "id": "8c648003",
   "metadata": {},
   "outputs": [
    {
     "name": "stdout",
     "output_type": "stream",
     "text": [
      "Expected Length: 9659\n",
      "Actual Length: 9659\n"
     ]
    }
   ],
   "source": [
    "print('Expected Length:', len(android) - 1181)\n",
    "print('Actual Length:' , len(reviews_max))"
   ]
  },
  {
   "cell_type": "markdown",
   "id": "76e0f208",
   "metadata": {},
   "source": [
    "So, both expected values are the same."
   ]
  },
  {
   "cell_type": "markdown",
   "id": "33bc16f4",
   "metadata": {},
   "source": [
    "To remove the duplicate rows present in the dataset, the following steps will be taken:\n",
    "1. Two empty lists will be created `andriod_clean` to store the new cleaned data and `already_added` to store app names.\n",
    "2. A for loop that excludes the header row will be written and do the following for each iteration:\n",
    "    * Assign the app name to a variable named `name`.\n",
    "    * Convert the number of reviews to float, and assign it to a variable named       `n_reviews`.\n",
    "Note: If n_reviews is the same as the number of maximum reviews of the app name (the number can be found in the reviews_max dictionary) and name is not already in the list already_added because this is a new list.\n",
    "3. Append the entire row to the android_clean list (which will eventually be a list of lists and store our cleaned dataset).\n",
    "4. Append the name of the app name to the already_added list — this helps us to keep track of apps that we already added."
   ]
  },
  {
   "cell_type": "code",
   "execution_count": 10,
   "id": "b6ee5d21",
   "metadata": {},
   "outputs": [],
   "source": [
    "android_clean = []\n",
    "already_added = []\n",
    "\n",
    "for app in android:\n",
    "    name = app[0]\n",
    "    n_reviews = float(app[3])\n",
    "    \n",
    "    if (reviews_max[name] == n_reviews) and (name not in already_added):\n",
    "        android_clean.append(app)\n",
    "        already_added.append(name)\n",
    "        "
   ]
  },
  {
   "cell_type": "markdown",
   "id": "2fab4b26",
   "metadata": {},
   "source": [
    "To quickly explore the the dataset android_clean, use the explore_data function:"
   ]
  },
  {
   "cell_type": "code",
   "execution_count": 11,
   "id": "a60c0cd8",
   "metadata": {},
   "outputs": [
    {
     "name": "stdout",
     "output_type": "stream",
     "text": [
      "['Photo Editor & Candy Camera & Grid & ScrapBook', 'ART_AND_DESIGN', '4.1', '159', '19M', '10,000+', 'Free', '0', 'Everyone', 'Art & Design', 'January 7, 2018', '1.0.0', '4.0.3 and up']\n",
      "\n",
      "\n",
      "['U Launcher Lite – FREE Live Cool Themes, Hide Apps', 'ART_AND_DESIGN', '4.7', '87510', '8.7M', '5,000,000+', 'Free', '0', 'Everyone', 'Art & Design', 'August 1, 2018', '1.2.4', '4.0.3 and up']\n",
      "\n",
      "\n",
      "['Sketch - Draw & Paint', 'ART_AND_DESIGN', '4.5', '215644', '25M', '50,000,000+', 'Free', '0', 'Teen', 'Art & Design', 'June 8, 2018', 'Varies with device', '4.2 and up']\n",
      "\n",
      "\n",
      "['Pixel Draw - Number Art Coloring Book', 'ART_AND_DESIGN', '4.3', '967', '2.8M', '100,000+', 'Free', '0', 'Everyone', 'Art & Design;Creativity', 'June 20, 2018', '1.1', '4.4 and up']\n",
      "\n",
      "\n",
      "Number of rows: 9659\n",
      "Number of columns: 13\n"
     ]
    }
   ],
   "source": [
    "explore_data(android_clean, 0, 4, True)"
   ]
  },
  {
   "cell_type": "markdown",
   "id": "1d9b828b",
   "metadata": {},
   "source": [
    "After executing the code, the cleaned dataset now has 9,659 rows."
   ]
  },
  {
   "cell_type": "markdown",
   "id": "066c687f",
   "metadata": {},
   "source": [
    "## Removing Non-English Apps - Part One\n",
    "\n",
    "- From the dataset, there are apps that are non-English apps, however, the apps the developers use are English apps. Hence, the non-English apps need to be removed. \n",
    "- The numbers corresponding to the characters we commonly use in an English text are all in the range 0 to 127, according to the ASCII (American Standard Code for Information Interchange) system. \n",
    "- Based on this number range, we can build a function that detects whether a character belongs to the set of common English characters or not. If the number is equal to or less than 127, then the character belongs to the set of common English characters.\n",
    "- If an app name contains a character that is greater than 127, then it probably means that the app has a non-English name. \n",
    "- First, let's introduce some of the suspected non-English speaking apps:"
   ]
  },
  {
   "cell_type": "code",
   "execution_count": 12,
   "id": "9cb44631",
   "metadata": {},
   "outputs": [
    {
     "name": "stdout",
     "output_type": "stream",
     "text": [
      "中国語 AQリスニング\n",
      "爱奇艺PPS -《欢乐颂2》电视剧热播\n"
     ]
    }
   ],
   "source": [
    "print(android_clean[4412][0])\n",
    "print(ios[813][1])"
   ]
  },
  {
   "cell_type": "code",
   "execution_count": 13,
   "id": "0c6bbb7b",
   "metadata": {},
   "outputs": [
    {
     "name": "stdout",
     "output_type": "stream",
     "text": [
      "True\n",
      "False\n",
      "False\n",
      "False\n"
     ]
    }
   ],
   "source": [
    "# A function to check for English and non-English apps:\n",
    "def english_apps(string):\n",
    "    for character in string:\n",
    "        if ord(character) > 127:\n",
    "            return False\n",
    "    return True\n",
    "\n",
    "# Checking if these apps are English apps or not:\n",
    "print(english_apps('Instagram'))\n",
    "print(english_apps('爱奇艺PPS -《欢乐颂2》电视剧热播')) \n",
    "print(english_apps('Docs To Go™ Free Office Suite'))\n",
    "print(english_apps('Instachat 😜'))"
   ]
  },
  {
   "cell_type": "markdown",
   "id": "a12f7efe",
   "metadata": {},
   "source": [
    "## Removing Non-English Apps - Part Two\n",
    "- Some of the English apps are returning as `False` when the `english_apps()` was used because of the special characters. To correct this, the `english_apps()` needs to be updated."
   ]
  },
  {
   "cell_type": "code",
   "execution_count": 14,
   "id": "30859a21",
   "metadata": {},
   "outputs": [
    {
     "name": "stdout",
     "output_type": "stream",
     "text": [
      "True\n",
      "True\n",
      "False\n"
     ]
    }
   ],
   "source": [
    "# An updated function for English apps with special characters:\n",
    "def english_apps(string):\n",
    "    non_ascii = 0 \n",
    "    \n",
    "    for character in string:\n",
    "        if ord(character) > 127:\n",
    "            non_ascii +=1\n",
    "    if non_ascii > 3:\n",
    "        return False\n",
    "    else:\n",
    "        return True\n",
    "print(english_apps('Docs To Go™ Free Office Suite'))\n",
    "print(english_apps('Instachat 😜'))\n",
    "print(english_apps('爱奇艺PPS -《欢乐颂2》电视剧热播'))"
   ]
  },
  {
   "cell_type": "code",
   "execution_count": 15,
   "id": "5f3a65df",
   "metadata": {},
   "outputs": [],
   "source": [
    "# Filtering out non-English apps:\n",
    "android_english = []\n",
    "ios_english = []\n",
    "\n",
    "for app in android_clean:\n",
    "    name = app[0]\n",
    "    if english_apps(name): \n",
    "        android_english.append(app)\n",
    "        \n",
    "for app in ios:\n",
    "    name = app[1]\n",
    "    if english_apps(name): \n",
    "        ios_english.append(app)\n"
   ]
  },
  {
   "cell_type": "code",
   "execution_count": 16,
   "id": "4be4ed6a",
   "metadata": {},
   "outputs": [
    {
     "name": "stdout",
     "output_type": "stream",
     "text": [
      "['Photo Editor & Candy Camera & Grid & ScrapBook', 'ART_AND_DESIGN', '4.1', '159', '19M', '10,000+', 'Free', '0', 'Everyone', 'Art & Design', 'January 7, 2018', '1.0.0', '4.0.3 and up']\n",
      "\n",
      "\n",
      "['U Launcher Lite – FREE Live Cool Themes, Hide Apps', 'ART_AND_DESIGN', '4.7', '87510', '8.7M', '5,000,000+', 'Free', '0', 'Everyone', 'Art & Design', 'August 1, 2018', '1.2.4', '4.0.3 and up']\n",
      "\n",
      "\n",
      "['Sketch - Draw & Paint', 'ART_AND_DESIGN', '4.5', '215644', '25M', '50,000,000+', 'Free', '0', 'Teen', 'Art & Design', 'June 8, 2018', 'Varies with device', '4.2 and up']\n",
      "\n",
      "\n",
      "['Pixel Draw - Number Art Coloring Book', 'ART_AND_DESIGN', '4.3', '967', '2.8M', '100,000+', 'Free', '0', 'Everyone', 'Art & Design;Creativity', 'June 20, 2018', '1.1', '4.4 and up']\n",
      "\n",
      "\n",
      "Number of rows: 9614\n",
      "Number of columns: 13\n",
      "\n",
      "\n",
      "['389801252', 'Instagram', '113954816', 'USD', '0.0', '2161558', '1289', '4.5', '4.0', '10.23', '12+', 'Photo & Video', '37', '0', '29', '1']\n",
      "\n",
      "\n",
      "['529479190', 'Clash of Clans', '116476928', 'USD', '0.0', '2130805', '579', '4.5', '4.5', '9.24.12', '9+', 'Games', '38', '5', '18', '1']\n",
      "\n",
      "\n",
      "['420009108', 'Temple Run', '65921024', 'USD', '0.0', '1724546', '3842', '4.5', '4.0', '1.6.2', '9+', 'Games', '40', '5', '1', '1']\n",
      "\n",
      "\n",
      "Number of rows: 6183\n",
      "Number of columns: 16\n"
     ]
    }
   ],
   "source": [
    "explore_data(android_english, 0, 4, True)\n",
    "print('\\n')\n",
    "explore_data(ios_english, 1, 4, True)"
   ]
  },
  {
   "cell_type": "markdown",
   "id": "1b413d3b",
   "metadata": {},
   "source": [
    "## Isolating Free Apps\n",
    "- The aim of this project is to analyse apps that can help generate more revenue. The apps in question are free and revenue is usually generated through in-app adds, however, the apps is a mix of paid and free apps at the moment.\n",
    "- Hence, the apps will have to be isolated into free and paid apps to analyse the free apps."
   ]
  },
  {
   "cell_type": "code",
   "execution_count": 17,
   "id": "9d38d912",
   "metadata": {},
   "outputs": [],
   "source": [
    "android_free_apps = []\n",
    "ios_free_apps = []\n",
    "\n",
    "for app in android_english:\n",
    "    price = app[7]  # Access the price column\n",
    "    if price == '0':  # Check if the app is free\n",
    "        android_free_apps.append(app)  # Append the entire app\n",
    "\n",
    "for app in ios_english:\n",
    "    price = app[4]  # Access the price column (correct variable and index)\n",
    "    if price == '0.0':  # Check if the app is free\n",
    "        ios_free_apps.append(app)  # Append the entire app"
   ]
  },
  {
   "cell_type": "code",
   "execution_count": 18,
   "id": "579c92a9",
   "metadata": {},
   "outputs": [
    {
     "name": "stdout",
     "output_type": "stream",
     "text": [
      "8864\n",
      "3222\n"
     ]
    }
   ],
   "source": [
    "print(len(android_free_apps))\n",
    "print(len(ios_free_apps))"
   ]
  },
  {
   "cell_type": "markdown",
   "id": "4686ddac",
   "metadata": {},
   "source": [
    "## Most Common Apps by Genre\n",
    "The goal is to determine the kinds of apps that are likely to attract more users because the number of people using the apps affect the revenue.\n",
    "\n",
    "### To minimize risks and overhead, the validation strategy for an app idea has three steps:\n",
    "\n",
    "1. Build a minimal Android version of the app, and add it to Google Play.\n",
    "2. If the app has a good response from users, we develop it further.\n",
    "3. If the app is profitable after six months, we build an iOS version of the app and add it to the App Store.\n",
    "\n",
    "Because the end goal is to add the app on both Google Play and the App Store, we need to find app profiles that are successful in both markets.\n",
    "\n",
    "To begin the analysis, both datasets will be inspected and frequency tables will be used to determine the most common genres in the market. To this, the column `prime_genre` will be inspected for App Store and `Genre` and `Category` will be inspected for the Google PlaySore."
   ]
  },
  {
   "cell_type": "markdown",
   "id": "ea6f1943",
   "metadata": {},
   "source": [
    "## Part Two:\n",
    "Now, two functions will be defined to analyze the frequency tables:\n",
    "\n",
    "- One function to generate frequency tables that show percentages\n",
    "- Another function we can use to display the percentages in a descending order"
   ]
  },
  {
   "cell_type": "code",
   "execution_count": 19,
   "id": "f743a5da",
   "metadata": {},
   "outputs": [],
   "source": [
    "# Creating a function for frequency table \n",
    "def freq_table(dataset, index):\n",
    "    frequency_table = {}\n",
    "    total = len(dataset)  # Total number of rows\n",
    "    \n",
    "    # Count frequencies\n",
    "    for row in dataset:\n",
    "        value = row[index]  # Access the value in the specified column\n",
    "        if value in frequency_table:\n",
    "            frequency_table[value] += 1\n",
    "        else:\n",
    "            frequency_table[value] = 1\n",
    "    \n",
    "    # Convert counts to percentages\n",
    "    for key in frequency_table:\n",
    "        frequency_table[key] = (frequency_table[key] / total) * 100\n",
    "    \n",
    "    return frequency_table\n",
    "    \n",
    "def display_table(dataset, index):\n",
    "    table = freq_table(dataset, index)\n",
    "    table_display = []\n",
    "    for key in table:\n",
    "        key_val_as_tuple = (table[key], key)\n",
    "        table_display.append(key_val_as_tuple)\n",
    "\n",
    "    table_sorted = sorted(table_display, reverse = True)\n",
    "    for entry in table_sorted:\n",
    "        print(entry[1], ':', entry[0])"
   ]
  },
  {
   "cell_type": "code",
   "execution_count": 20,
   "id": "93ad8e51",
   "metadata": {},
   "outputs": [
    {
     "data": {
      "text/plain": [
       "{'Social Networking': 3.2898820608317814,\n",
       " 'Photo & Video': 4.9658597144630665,\n",
       " 'Games': 58.16263190564867,\n",
       " 'Music': 2.0484171322160147,\n",
       " 'Reference': 0.5586592178770949,\n",
       " 'Health & Fitness': 2.0173805090006205,\n",
       " 'Weather': 0.8690254500310366,\n",
       " 'Utilities': 2.5139664804469275,\n",
       " 'Travel': 1.2414649286157666,\n",
       " 'Shopping': 2.60707635009311,\n",
       " 'News': 1.3345747982619491,\n",
       " 'Navigation': 0.186219739292365,\n",
       " 'Lifestyle': 1.5828677839851024,\n",
       " 'Entertainment': 7.883302296710118,\n",
       " 'Food & Drink': 0.8069522036002483,\n",
       " 'Sports': 2.1415270018621975,\n",
       " 'Book': 0.4345127250155183,\n",
       " 'Finance': 1.1173184357541899,\n",
       " 'Education': 3.662321539416512,\n",
       " 'Productivity': 1.7380509000620732,\n",
       " 'Business': 0.5276225946617008,\n",
       " 'Catalogs': 0.12414649286157665,\n",
       " 'Medical': 0.186219739292365}"
      ]
     },
     "execution_count": 20,
     "metadata": {},
     "output_type": "execute_result"
    }
   ],
   "source": [
    "# Frequency tables for apps in AppStore\n",
    "freq_table(ios_free_apps, 11) #prime_genre column "
   ]
  },
  {
   "cell_type": "markdown",
   "id": "671369af",
   "metadata": {},
   "source": [
    "## Part Three\n",
    "- The most common `genre` in the English apps in AppsStore dataset was `Games` which was about 58.2%, followed by `Entertainment` about 8% and the third position was `Photo & Video` about 5%. Practical categories such as Education (3.66%), Social Networking (3.29%), and Utilities (2.51%) are moderately represented, while niche categories like Medical and Catalogs have minimal presence.\n",
    "\n",
    "- The data indicates a clear dominance of entertainment-oriented apps (Games, Photo & Video, Music, etc.), suggesting that developers prioritize engaging content over practical or utilitarian purposes. This aligns with user preferences for recreation and leisure activities.\n",
    "\n",
    "- No, an app profile for the App Store market based on this frequency table alone because  only English apps listed here abd this is not a full representation of the entire apps in the Apps Store since the non-Engk=lis apps have been excluded for thepurpose of this analysis. "
   ]
  },
  {
   "cell_type": "code",
   "execution_count": 21,
   "id": "78309fbc",
   "metadata": {},
   "outputs": [
    {
     "data": {
      "text/plain": [
       "{'ART_AND_DESIGN': 0.6430505415162455,\n",
       " 'AUTO_AND_VEHICLES': 0.9250902527075812,\n",
       " 'BEAUTY': 0.5979241877256317,\n",
       " 'BOOKS_AND_REFERENCE': 2.1435018050541514,\n",
       " 'BUSINESS': 4.591606498194946,\n",
       " 'COMICS': 0.6204873646209386,\n",
       " 'COMMUNICATION': 3.2378158844765346,\n",
       " 'DATING': 1.861462093862816,\n",
       " 'EDUCATION': 1.1620036101083033,\n",
       " 'ENTERTAINMENT': 0.9589350180505415,\n",
       " 'EVENTS': 0.7107400722021661,\n",
       " 'FINANCE': 3.7003610108303246,\n",
       " 'FOOD_AND_DRINK': 1.2409747292418771,\n",
       " 'HEALTH_AND_FITNESS': 3.0798736462093865,\n",
       " 'HOUSE_AND_HOME': 0.8235559566787004,\n",
       " 'LIBRARIES_AND_DEMO': 0.9363718411552346,\n",
       " 'LIFESTYLE': 3.9034296028880866,\n",
       " 'GAME': 9.724729241877256,\n",
       " 'FAMILY': 18.907942238267147,\n",
       " 'MEDICAL': 3.531137184115524,\n",
       " 'SOCIAL': 2.6624548736462095,\n",
       " 'SHOPPING': 2.2450361010830324,\n",
       " 'PHOTOGRAPHY': 2.944494584837545,\n",
       " 'SPORTS': 3.395758122743682,\n",
       " 'TRAVEL_AND_LOCAL': 2.33528880866426,\n",
       " 'TOOLS': 8.461191335740072,\n",
       " 'PERSONALIZATION': 3.3167870036101084,\n",
       " 'PRODUCTIVITY': 3.892148014440433,\n",
       " 'PARENTING': 0.6543321299638989,\n",
       " 'WEATHER': 0.8009927797833934,\n",
       " 'VIDEO_PLAYERS': 1.7937725631768955,\n",
       " 'NEWS_AND_MAGAZINES': 2.7978339350180503,\n",
       " 'MAPS_AND_NAVIGATION': 1.3989169675090252}"
      ]
     },
     "execution_count": 21,
     "metadata": {},
     "output_type": "execute_result"
    }
   ],
   "source": [
    "# Frequency tables for apps in Google Play Store\n",
    "freq_table(android_free_apps, 1)#column for Category\n"
   ]
  },
  {
   "cell_type": "code",
   "execution_count": 22,
   "id": "d36d5f04",
   "metadata": {},
   "outputs": [
    {
     "data": {
      "text/plain": [
       "{'Art & Design': 0.5979241877256317,\n",
       " 'Art & Design;Creativity': 0.06768953068592057,\n",
       " 'Auto & Vehicles': 0.9250902527075812,\n",
       " 'Beauty': 0.5979241877256317,\n",
       " 'Books & Reference': 2.1435018050541514,\n",
       " 'Business': 4.591606498194946,\n",
       " 'Comics': 0.6092057761732852,\n",
       " 'Comics;Creativity': 0.01128158844765343,\n",
       " 'Communication': 3.2378158844765346,\n",
       " 'Dating': 1.861462093862816,\n",
       " 'Education': 5.347472924187725,\n",
       " 'Education;Creativity': 0.04512635379061372,\n",
       " 'Education;Education': 0.33844765342960287,\n",
       " 'Education;Pretend Play': 0.056407942238267145,\n",
       " 'Education;Brain Games': 0.033844765342960284,\n",
       " 'Entertainment': 6.069494584837545,\n",
       " 'Entertainment;Brain Games': 0.078971119133574,\n",
       " 'Entertainment;Creativity': 0.033844765342960284,\n",
       " 'Entertainment;Music & Video': 0.16922382671480143,\n",
       " 'Events': 0.7107400722021661,\n",
       " 'Finance': 3.7003610108303246,\n",
       " 'Food & Drink': 1.2409747292418771,\n",
       " 'Health & Fitness': 3.0798736462093865,\n",
       " 'House & Home': 0.8235559566787004,\n",
       " 'Libraries & Demo': 0.9363718411552346,\n",
       " 'Lifestyle': 3.892148014440433,\n",
       " 'Lifestyle;Pretend Play': 0.01128158844765343,\n",
       " 'Card': 0.45126353790613716,\n",
       " 'Arcade': 1.8501805054151623,\n",
       " 'Puzzle': 1.128158844765343,\n",
       " 'Racing': 0.9927797833935018,\n",
       " 'Sports': 3.463447653429603,\n",
       " 'Casual': 1.7599277978339352,\n",
       " 'Simulation': 2.0419675090252705,\n",
       " 'Adventure': 0.6768953068592057,\n",
       " 'Trivia': 0.41741877256317694,\n",
       " 'Action': 3.1024368231046933,\n",
       " 'Word': 0.2594765342960289,\n",
       " 'Role Playing': 0.9363718411552346,\n",
       " 'Strategy': 0.9138086642599278,\n",
       " 'Board': 0.3835740072202166,\n",
       " 'Music': 0.2030685920577617,\n",
       " 'Action;Action & Adventure': 0.10153429602888085,\n",
       " 'Casual;Brain Games': 0.13537906137184114,\n",
       " 'Educational;Creativity': 0.033844765342960284,\n",
       " 'Puzzle;Brain Games': 0.16922382671480143,\n",
       " 'Educational;Education': 0.39485559566787,\n",
       " 'Casual;Pretend Play': 0.236913357400722,\n",
       " 'Educational;Brain Games': 0.06768953068592057,\n",
       " 'Art & Design;Pretend Play': 0.01128158844765343,\n",
       " 'Educational;Pretend Play': 0.09025270758122744,\n",
       " 'Entertainment;Education': 0.01128158844765343,\n",
       " 'Casual;Education': 0.02256317689530686,\n",
       " 'Casual;Creativity': 0.06768953068592057,\n",
       " 'Casual;Action & Adventure': 0.13537906137184114,\n",
       " 'Music;Music & Video': 0.02256317689530686,\n",
       " 'Arcade;Pretend Play': 0.01128158844765343,\n",
       " 'Adventure;Action & Adventure': 0.033844765342960284,\n",
       " 'Role Playing;Action & Adventure': 0.033844765342960284,\n",
       " 'Simulation;Pretend Play': 0.02256317689530686,\n",
       " 'Puzzle;Creativity': 0.02256317689530686,\n",
       " 'Simulation;Action & Adventure': 0.078971119133574,\n",
       " 'Racing;Action & Adventure': 0.16922382671480143,\n",
       " 'Sports;Action & Adventure': 0.02256317689530686,\n",
       " 'Educational;Action & Adventure': 0.033844765342960284,\n",
       " 'Arcade;Action & Adventure': 0.12409747292418773,\n",
       " 'Entertainment;Action & Adventure': 0.033844765342960284,\n",
       " 'Art & Design;Action & Adventure': 0.01128158844765343,\n",
       " 'Puzzle;Action & Adventure': 0.033844765342960284,\n",
       " 'Education;Action & Adventure': 0.033844765342960284,\n",
       " 'Strategy;Action & Adventure': 0.01128158844765343,\n",
       " 'Music & Audio;Music & Video': 0.01128158844765343,\n",
       " 'Health & Fitness;Education': 0.01128158844765343,\n",
       " 'Board;Action & Adventure': 0.02256317689530686,\n",
       " 'Board;Brain Games': 0.078971119133574,\n",
       " 'Casual;Music & Video': 0.01128158844765343,\n",
       " 'Education;Music & Video': 0.033844765342960284,\n",
       " 'Role Playing;Pretend Play': 0.04512635379061372,\n",
       " 'Entertainment;Pretend Play': 0.02256317689530686,\n",
       " 'Medical': 3.531137184115524,\n",
       " 'Social': 2.6624548736462095,\n",
       " 'Shopping': 2.2450361010830324,\n",
       " 'Photography': 2.944494584837545,\n",
       " 'Travel & Local': 2.3240072202166067,\n",
       " 'Travel & Local;Action & Adventure': 0.01128158844765343,\n",
       " 'Tools': 8.449909747292418,\n",
       " 'Tools;Education': 0.01128158844765343,\n",
       " 'Personalization': 3.3167870036101084,\n",
       " 'Productivity': 3.892148014440433,\n",
       " 'Parenting': 0.4963898916967509,\n",
       " 'Parenting;Music & Video': 0.06768953068592057,\n",
       " 'Parenting;Education': 0.078971119133574,\n",
       " 'Parenting;Brain Games': 0.01128158844765343,\n",
       " 'Weather': 0.8009927797833934,\n",
       " 'Video Players & Editors': 1.7712093862815883,\n",
       " 'Video Players & Editors;Music & Video': 0.02256317689530686,\n",
       " 'Video Players & Editors;Creativity': 0.01128158844765343,\n",
       " 'News & Magazines': 2.7978339350180503,\n",
       " 'Maps & Navigation': 1.3989169675090252,\n",
       " 'Health & Fitness;Action & Adventure': 0.01128158844765343,\n",
       " 'Educational': 0.3722924187725632,\n",
       " 'Casino': 0.42870036101083037,\n",
       " 'Trivia;Education': 0.01128158844765343,\n",
       " 'Lifestyle;Education': 0.01128158844765343,\n",
       " 'Card;Action & Adventure': 0.01128158844765343,\n",
       " 'Books & Reference;Education': 0.01128158844765343,\n",
       " 'Simulation;Education': 0.01128158844765343,\n",
       " 'Puzzle;Education': 0.01128158844765343,\n",
       " 'Adventure;Education': 0.01128158844765343,\n",
       " 'Role Playing;Brain Games': 0.01128158844765343,\n",
       " 'Strategy;Education': 0.01128158844765343,\n",
       " 'Racing;Pretend Play': 0.01128158844765343,\n",
       " 'Communication;Creativity': 0.01128158844765343,\n",
       " 'Strategy;Creativity': 0.01128158844765343}"
      ]
     },
     "execution_count": 22,
     "metadata": {},
     "output_type": "execute_result"
    }
   ],
   "source": [
    "freq_table(android_free_apps, 9)#column for Genre"
   ]
  },
  {
   "cell_type": "markdown",
   "id": "656d40c9",
   "metadata": {},
   "source": [
    "The most common apps among the `Genre` and `Category` columns are more of the practical apps like`Family`, `Business` and `Communication'.\n",
    "- There is not much difference between the `Genre` and `Category` columns asides the fact that the `Genre` column is more in-depth i.e. there are more categories.\n",
    "- From this it can be inferred that most of the engaged apps on the Google PlayStore are more practical in contrast to to those on the App Store that are more tilted around entertainment and fun.\n"
   ]
  },
  {
   "cell_type": "markdown",
   "id": "ec93180b",
   "metadata": {},
   "source": [
    "## Most Popular Apps By Genre on the App Store\n",
    "- The most popular apps by genre will be analyzed by using `ratings_tot_count` since the App Store dataset does not include number of installs. This would be used as the closest proxy."
   ]
  },
  {
   "cell_type": "code",
   "execution_count": 23,
   "id": "ae060978",
   "metadata": {},
   "outputs": [
    {
     "name": "stdout",
     "output_type": "stream",
     "text": [
      "Social Networking : 71548.34905660378\n",
      "Photo & Video : 28441.54375\n",
      "Games : 22788.6696905016\n",
      "Music : 57326.530303030304\n",
      "Reference : 74942.11111111111\n",
      "Health & Fitness : 23298.015384615384\n",
      "Weather : 52279.892857142855\n",
      "Utilities : 18684.456790123455\n",
      "Travel : 28243.8\n",
      "Shopping : 26919.690476190477\n",
      "News : 21248.023255813954\n",
      "Navigation : 86090.33333333333\n",
      "Lifestyle : 16485.764705882353\n",
      "Entertainment : 14029.830708661417\n",
      "Food & Drink : 33333.92307692308\n",
      "Sports : 23008.898550724636\n",
      "Book : 39758.5\n",
      "Finance : 31467.944444444445\n",
      "Education : 7003.983050847458\n",
      "Productivity : 21028.410714285714\n",
      "Business : 7491.117647058823\n",
      "Catalogs : 4004.0\n",
      "Medical : 612.0\n"
     ]
    }
   ],
   "source": [
    "genres_ios= freq_table(ios_free_apps, 11)\n",
    "\n",
    "for genre in genres_ios:\n",
    "    total = 0 # Total number of app ratings in App Store \n",
    "    len_genre = 0 # No of apps specific to each genre\n",
    "    for app in ios_free_apps:\n",
    "        genre_app = app[11]\n",
    "        if genre_app == genre:\n",
    "            n_ratings = float(app[5])\n",
    "            total += n_ratings \n",
    "            len_genre += 1\n",
    "    average_ios_n_rating = total / len_genre\n",
    "    print(genre, ':', average_ios_n_rating)"
   ]
  },
  {
   "cell_type": "markdown",
   "id": "2b2f5524",
   "metadata": {},
   "source": [
    "From the analysis, the most popular app genre is Navigation, followed by social networking, Reference and Music. "
   ]
  },
  {
   "cell_type": "code",
   "execution_count": 24,
   "id": "3101a1b9",
   "metadata": {},
   "outputs": [
    {
     "name": "stdout",
     "output_type": "stream",
     "text": [
      "Waze - GPS Navigation, Maps & Real-time Traffic : Navigation\n",
      "Google Maps - Navigation & Transit : Navigation\n",
      "Geocaching® : Navigation\n",
      "CoPilot GPS – Car Navigation & Offline Maps : Navigation\n",
      "ImmobilienScout24: Real Estate Search in Germany : Navigation\n",
      "Railway Route Search : Navigation\n"
     ]
    }
   ],
   "source": [
    "for app in ios_free_apps:\n",
    "    if app[11] == 'Navigation':\n",
    "        print(app[1], ':', app[11])"
   ]
  },
  {
   "cell_type": "code",
   "execution_count": 25,
   "id": "72239d4c",
   "metadata": {},
   "outputs": [
    {
     "name": "stdout",
     "output_type": "stream",
     "text": [
      "Facebook : Social Networking\n",
      "Pinterest : Social Networking\n",
      "Skype for iPhone : Social Networking\n",
      "Messenger : Social Networking\n",
      "Tumblr : Social Networking\n",
      "WhatsApp Messenger : Social Networking\n",
      "Kik : Social Networking\n",
      "ooVoo – Free Video Call, Text and Voice : Social Networking\n",
      "TextNow - Unlimited Text + Calls : Social Networking\n",
      "Viber Messenger – Text & Call : Social Networking\n",
      "Followers - Social Analytics For Instagram : Social Networking\n",
      "MeetMe - Chat and Meet New People : Social Networking\n",
      "We Heart It - Fashion, wallpapers, quotes, tattoos : Social Networking\n",
      "InsTrack for Instagram - Analytics Plus More : Social Networking\n",
      "Tango - Free Video Call, Voice and Chat : Social Networking\n",
      "LinkedIn : Social Networking\n",
      "Match™ - #1 Dating App. : Social Networking\n",
      "Skype for iPad : Social Networking\n",
      "POF - Best Dating App for Conversations : Social Networking\n",
      "Timehop : Social Networking\n",
      "Find My Family, Friends & iPhone - Life360 Locator : Social Networking\n",
      "Whisper - Share, Express, Meet : Social Networking\n",
      "Hangouts : Social Networking\n",
      "LINE PLAY - Your Avatar World : Social Networking\n",
      "WeChat : Social Networking\n",
      "Badoo - Meet New People, Chat, Socialize. : Social Networking\n",
      "Followers + for Instagram - Follower Analytics : Social Networking\n",
      "GroupMe : Social Networking\n",
      "Marco Polo Video Walkie Talkie : Social Networking\n",
      "Miitomo : Social Networking\n",
      "SimSimi : Social Networking\n",
      "Grindr - Gay and same sex guys chat, meet and date : Social Networking\n",
      "Wishbone - Compare Anything : Social Networking\n",
      "imo video calls and chat : Social Networking\n",
      "After School - Funny Anonymous School News : Social Networking\n",
      "Quick Reposter - Repost, Regram and Reshare Photos : Social Networking\n",
      "Weibo HD : Social Networking\n",
      "Repost for Instagram : Social Networking\n",
      "Live.me – Live Video Chat & Make Friends Nearby : Social Networking\n",
      "Nextdoor : Social Networking\n",
      "Followers Analytics for Instagram - InstaReport : Social Networking\n",
      "YouNow: Live Stream Video Chat : Social Networking\n",
      "FollowMeter for Instagram - Followers Tracking : Social Networking\n",
      "LINE : Social Networking\n",
      "eHarmony™ Dating App - Meet Singles : Social Networking\n",
      "Discord - Chat for Gamers : Social Networking\n",
      "QQ : Social Networking\n",
      "Telegram Messenger : Social Networking\n",
      "Weibo : Social Networking\n",
      "Periscope - Live Video Streaming Around the World : Social Networking\n",
      "Chat for Whatsapp - iPad Version : Social Networking\n",
      "QQ HD : Social Networking\n",
      "Followers Analysis Tool For Instagram App Free : Social Networking\n",
      "live.ly - live video streaming : Social Networking\n",
      "Houseparty - Group Video Chat : Social Networking\n",
      "SOMA Messenger : Social Networking\n",
      "Monkey : Social Networking\n",
      "Down To Lunch : Social Networking\n",
      "Flinch - Video Chat Staring Contest : Social Networking\n",
      "Highrise - Your Avatar Community : Social Networking\n",
      "LOVOO - Dating Chat : Social Networking\n",
      "PlayStation®Messages : Social Networking\n",
      "BOO! - Video chat camera with filters & stickers : Social Networking\n",
      "Qzone : Social Networking\n",
      "Chatous - Chat with new people : Social Networking\n",
      "Kiwi - Q&A : Social Networking\n",
      "GhostCodes - a discovery app for Snapchat : Social Networking\n",
      "Jodel : Social Networking\n",
      "FireChat : Social Networking\n",
      "Google Duo - simple video calling : Social Networking\n",
      "Fiesta by Tango - Chat & Meet New People : Social Networking\n",
      "Google Allo — smart messaging : Social Networking\n",
      "Peach — share vividly : Social Networking\n",
      "Hey! VINA - Where Women Meet New Friends : Social Networking\n",
      "Battlefield™ Companion : Social Networking\n",
      "All Devices for WhatsApp - Messenger for iPad : Social Networking\n",
      "Chat for Pokemon Go - GoChat : Social Networking\n",
      "IAmNaughty – Dating App to Meet New People Online : Social Networking\n",
      "Qzone HD : Social Networking\n",
      "Zenly - Locate your friends in realtime : Social Networking\n",
      "League of Legends Friends : Social Networking\n",
      "豆瓣 : Social Networking\n",
      "Candid - Speak Your Mind Freely : Social Networking\n",
      "知乎 : Social Networking\n",
      "Selfeo : Social Networking\n",
      "Fake-A-Location Free ™ : Social Networking\n",
      "Popcorn Buzz - Free Group Calls : Social Networking\n",
      "Fam — Group video calling for iMessage : Social Networking\n",
      "QQ International : Social Networking\n",
      "Ameba : Social Networking\n",
      "SoundCloud Pulse: for creators : Social Networking\n",
      "Tantan : Social Networking\n",
      "Cougar Dating & Life Style App for Mature Women : Social Networking\n",
      "Rawr Messenger - Dab your chat : Social Networking\n",
      "WhenToPost: Best Time to Post Photos for Instagram : Social Networking\n",
      "Inke—Broadcast an amazing life : Social Networking\n",
      "Mustknow - anonymous video Q&A : Social Networking\n",
      "CTFxCmoji : Social Networking\n",
      "Lobi : Social Networking\n",
      "Chain: Collaborate On MyVideo Story/Group Video : Social Networking\n",
      "botman - Real time video chat : Social Networking\n",
      "BestieBox : Social Networking\n",
      "MATCH ON LINE chat : Social Networking\n",
      "niconico ch : Social Networking\n",
      "LINE BLOG : Social Networking\n",
      "bit-tube - Live Stream Video Chat : Social Networking\n"
     ]
    }
   ],
   "source": [
    "for app in ios_free_apps:\n",
    "    if app[11] == 'Social Networking':\n",
    "        print(app[1], ':', app[11])"
   ]
  },
  {
   "cell_type": "code",
   "execution_count": 26,
   "id": "06c8f384",
   "metadata": {},
   "outputs": [
    {
     "name": "stdout",
     "output_type": "stream",
     "text": [
      "Bible : Reference\n",
      "Dictionary.com Dictionary & Thesaurus : Reference\n",
      "Dictionary.com Dictionary & Thesaurus for iPad : Reference\n",
      "Google Translate : Reference\n",
      "Muslim Pro: Ramadan 2017 Prayer Times, Azan, Quran : Reference\n",
      "New Furniture Mods - Pocket Wiki & Game Tools for Minecraft PC Edition : Reference\n",
      "Merriam-Webster Dictionary : Reference\n",
      "Night Sky : Reference\n",
      "City Maps for Minecraft PE - The Best Maps for Minecraft Pocket Edition (MCPE) : Reference\n",
      "LUCKY BLOCK MOD ™ for Minecraft PC Edition - The Best Pocket Wiki & Mods Installer Tools : Reference\n",
      "GUNS MODS for Minecraft PC Edition - Mods Tools : Reference\n",
      "Guides for Pokémon GO - Pokemon GO News and Cheats : Reference\n",
      "WWDC : Reference\n",
      "Horror Maps for Minecraft PE - Download The Scariest Maps for Minecraft Pocket Edition (MCPE) Free : Reference\n",
      "VPN Express : Reference\n",
      "Real Bike Traffic Rider Virtual Reality Glasses : Reference\n",
      "教えて!goo : Reference\n",
      "Jishokun-Japanese English Dictionary & Translator : Reference\n"
     ]
    }
   ],
   "source": [
    "for app in ios_free_apps:\n",
    "    if app[11] == 'Reference':\n",
    "        print(app[1], ':', app[11])"
   ]
  },
  {
   "cell_type": "code",
   "execution_count": 27,
   "id": "2ef16f52",
   "metadata": {},
   "outputs": [
    {
     "name": "stdout",
     "output_type": "stream",
     "text": [
      "Pandora - Music & Radio : Music\n",
      "Spotify Music : Music\n",
      "Shazam - Discover music, artists, videos & lyrics : Music\n",
      "iHeartRadio – Free Music & Radio Stations : Music\n",
      "SoundCloud - Music & Audio : Music\n",
      "Magic Piano by Smule : Music\n",
      "Smule Sing! : Music\n",
      "TuneIn Radio - MLB NBA Audiobooks Podcasts Music : Music\n",
      "Amazon Music : Music\n",
      "SoundHound Song Search & Music Player : Music\n",
      "Sonos Controller : Music\n",
      "Bandsintown Concerts : Music\n",
      "Karaoke - Sing Karaoke, Unlimited Songs! : Music\n",
      "My Mixtapez Music : Music\n",
      "Sing Karaoke Songs Unlimited with StarMaker : Music\n",
      "Ringtones for iPhone & Ringtone Maker : Music\n",
      "Musi - Unlimited Music For YouTube : Music\n",
      "AutoRap by Smule : Music\n",
      "Spinrilla - Mixtapes For Free : Music\n",
      "Napster - Top Music & Radio : Music\n",
      "edjing Mix:DJ turntable to remix and scratch music : Music\n",
      "Free Music - MP3 Streamer & Playlist Manager Pro : Music\n",
      "Free Piano app by Yokee : Music\n",
      "Google Play Music : Music\n",
      "Certified Mixtapes - Hip Hop Albums & Mixtapes : Music\n",
      "TIDAL : Music\n",
      "YouTube Music : Music\n",
      "Nicki Minaj: The Empire : Music\n",
      "Sounds app - Music And Friends : Music\n",
      "SongFlip - Free Music Streamer : Music\n",
      "Simple Radio - Live AM & FM Radio Stations : Music\n",
      "Deezer - Listen to your Favorite Music & Playlists : Music\n",
      "Ringtones for iPhone with Ringtone Maker : Music\n",
      "Bose SoundTouch : Music\n",
      "Amazon Alexa : Music\n",
      "DatPiff : Music\n",
      "Trebel Music - Unlimited Music Downloader : Music\n",
      "Free Music Play - Mp3 Streamer & Player : Music\n",
      "Acapella from PicPlayPost : Music\n",
      "Coach Guitar - Lessons & Easy Tabs For Beginners : Music\n",
      "Musicloud - MP3 and FLAC Music Player for Cloud Platforms. : Music\n",
      "Piano - Play Keyboard Music Games with Magic Tiles : Music\n",
      "Boom: Best Equalizer & Magical Surround Sound : Music\n",
      "Music Freedom - Unlimited Free MP3 Music Streaming : Music\n",
      "AmpMe - A Portable Social Party Music Speaker : Music\n",
      "Medly - Music Maker : Music\n",
      "Bose Connect : Music\n",
      "Music Memos : Music\n",
      "UE BOOM : Music\n",
      "LiveMixtapes : Music\n",
      "NOISE : Music\n",
      "MP3 Music Player & Streamer for Clouds : Music\n",
      "Musical Video Maker - Create Music clips lip sync : Music\n",
      "Cloud Music Player - Downloader & Playlist Manager : Music\n",
      "Remixlive - Remix loops with pads : Music\n",
      "QQ音乐HD : Music\n",
      "Blocs Wave - Make & Record Music : Music\n",
      "PlayGround • Music At Your Fingertips : Music\n",
      "Music and Chill : Music\n",
      "The Singing Machine Mobile Karaoke App : Music\n",
      "radio.de - Der Radioplayer : Music\n",
      "Free Music -  Player & Streamer  for Dropbox, OneDrive & Google Drive : Music\n",
      "NRJ Radio : Music\n",
      "Smart Music: Streaming Videos and Radio : Music\n",
      "BOSS Tuner : Music\n",
      "PetitLyrics : Music\n"
     ]
    }
   ],
   "source": [
    "for app in ios_free_apps:\n",
    "    if app[11] == 'Music':\n",
    "        print(app[1], ':', app[11])"
   ]
  },
  {
   "cell_type": "markdown",
   "id": "c57b524d",
   "metadata": {},
   "source": [
    "From the above analysis, these apps are the great contributors to the genres, and they include:\n",
    "- Navigation: Waze, CoPilot, Google Maps GPS.\n",
    "- Music: Spotify, Youtube Music, Pandora\n",
    "- Social Networking: Facebook, Pinterest, Whatsapp Messenger\n",
    "- Reference: Bible, Google Translate, Dictionary.com & Thearsus\n",
    "\n",
    "The above shows that the most popular apps are for `lifestyle and fun` although the `reference` apps skew this a bit."
   ]
  },
  {
   "cell_type": "markdown",
   "id": "1fd999aa",
   "metadata": {},
   "source": [
    "## Most Popular Apps by Genre on Google Play\n",
    "- The most popular apps by genre `(Category)` on the Google Play Store will be analyzed by using `Installs`"
   ]
  },
  {
   "cell_type": "code",
   "execution_count": 28,
   "id": "a4cc1f14",
   "metadata": {},
   "outputs": [
    {
     "name": "stdout",
     "output_type": "stream",
     "text": [
      "ART_AND_DESIGN : 1986335.0877192982\n",
      "AUTO_AND_VEHICLES : 647317.8170731707\n",
      "BEAUTY : 513151.88679245283\n",
      "BOOKS_AND_REFERENCE : 8767811.894736841\n",
      "BUSINESS : 1712290.1474201474\n",
      "COMICS : 817657.2727272727\n",
      "COMMUNICATION : 38456119.167247385\n",
      "DATING : 854028.8303030303\n",
      "EDUCATION : 1833495.145631068\n",
      "ENTERTAINMENT : 11640705.88235294\n",
      "EVENTS : 253542.22222222222\n",
      "FINANCE : 1387692.475609756\n",
      "FOOD_AND_DRINK : 1924897.7363636363\n",
      "HEALTH_AND_FITNESS : 4188821.9853479853\n",
      "HOUSE_AND_HOME : 1331540.5616438356\n",
      "LIBRARIES_AND_DEMO : 638503.734939759\n",
      "LIFESTYLE : 1437816.2687861272\n",
      "GAME : 15588015.603248259\n",
      "FAMILY : 3695641.8198090694\n",
      "MEDICAL : 120550.61980830671\n",
      "SOCIAL : 23253652.127118643\n",
      "SHOPPING : 7036877.311557789\n",
      "PHOTOGRAPHY : 17840110.40229885\n",
      "SPORTS : 3638640.1428571427\n",
      "TRAVEL_AND_LOCAL : 13984077.710144928\n",
      "TOOLS : 10801391.298666667\n",
      "PERSONALIZATION : 5201482.6122448975\n",
      "PRODUCTIVITY : 16787331.344927534\n",
      "PARENTING : 542603.6206896552\n",
      "WEATHER : 5074486.197183099\n",
      "VIDEO_PLAYERS : 24727872.452830188\n",
      "NEWS_AND_MAGAZINES : 9549178.467741935\n",
      "MAPS_AND_NAVIGATION : 4056941.7741935486\n"
     ]
    }
   ],
   "source": [
    "android_category =  freq_table(android_free_apps, 1) \n",
    "\n",
    "for category in android_category:\n",
    "    total = 0\n",
    "    len_category = 0\n",
    "    for app in android_free_apps:\n",
    "        category_app = app[1]\n",
    "        if category_app == category:\n",
    "            n_installs = app[5]\n",
    "            n_installs = n_installs.replace('+' , '')\n",
    "            n_installs = n_installs.replace(',' , '')\n",
    "            total += float(n_installs)\n",
    "            len_category += 1\n",
    "    average_android_n_installs = total / len_category\n",
    "    print(category, ':' , average_android_n_installs)"
   ]
  },
  {
   "cell_type": "markdown",
   "id": "6df15259",
   "metadata": {},
   "source": [
    "From the above the following are the most popular apps on the Google Play Store considering the number of installs of each app.\n",
    "- Communication (38million +)\n",
    "- Video and players (24 million+)\n",
    "- Social (23 million+)\n",
    "- Photography (17 million+)\n",
    "- Productivity (16 million+)\n",
    "- Games (15 million+)\n",
    "- Entertainment (11 million+)"
   ]
  },
  {
   "cell_type": "code",
   "execution_count": 30,
   "id": "873969ce",
   "metadata": {},
   "outputs": [],
   "source": [
    "for app in android_free_apps:\n",
    "    if app[1] == 'Communication':\n",
    "        print(app[0], ':', app[5])"
   ]
  },
  {
   "cell_type": "code",
   "execution_count": null,
   "id": "20997061",
   "metadata": {},
   "outputs": [],
   "source": []
  }
 ],
 "metadata": {
  "kernelspec": {
   "display_name": "Python 3 (ipykernel)",
   "language": "python",
   "name": "python3"
  },
  "language_info": {
   "codemirror_mode": {
    "name": "ipython",
    "version": 3
   },
   "file_extension": ".py",
   "mimetype": "text/x-python",
   "name": "python",
   "nbconvert_exporter": "python",
   "pygments_lexer": "ipython3",
   "version": "3.9.12"
  }
 },
 "nbformat": 4,
 "nbformat_minor": 5
}
